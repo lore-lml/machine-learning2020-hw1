{
 "cells": [
  {
   "cell_type": "code",
   "execution_count": null,
   "metadata": {
    "pycharm": {
     "is_executing": false,
     "name": "#%%\n"
    }
   },
   "outputs": [],
   "source": [
    "#Imports\n",
    "from sklearn.datasets import load_wine\n",
    "from sklearn.model_selection import train_test_split\n",
    "import numpy as np\n",
    "from sklearn.neighbors import KNeighborsClassifier\n",
    "from sklearn.metrics import accuracy_score\n",
    "import seaborn as sns\n",
    "from sklearn.svm import SVC\n",
    "from matplotlib.colors import ListedColormap\n",
    "from sklearn.preprocessing import StandardScaler\n",
    "from sklearn.model_selection import ParameterGrid, GridSearchCV\n",
    "from extra import start_extra_task\n",
    "import matplotlib.pyplot as plt\n",
    "%matplotlib inline\n",
    "\n",
    "def build_meshgrid(x, y, h=.02):\n",
    "    x_min, x_max = x.min() - 1, x.max() + 1\n",
    "    y_min, y_max = y.min() - 1, y.max() + 1\n",
    "    xx, yy = np.meshgrid(np.arange(x_min, x_max, h), np.arange(y_min, y_max, h))\n",
    "    return xx, yy\n",
    "\n",
    "def plot_boundaries(clf, xx, yy, cmap=None):\n",
    "    Z = clf.predict(np.c_[xx.ravel(), yy.ravel()])\n",
    "    # Put the result into a color plot\n",
    "    Z = Z.reshape(xx.shape)\n",
    "    _, ax = plt.subplots()\n",
    "    ax.pcolormesh(xx, yy, Z, cmap=cmap)\n",
    "    return ax\n",
    "    \n",
    "def barplot_annotation(splot):\n",
    "    for p in splot.patches:\n",
    "        splot.annotate(f\"{p.get_height():.2f} %\", (p.get_x() + p.get_width()/2., p.get_height()), ha = 'center', va = 'center', xytext = (0, 5), textcoords = 'offset points')"
   ]
  },
  {
   "cell_type": "markdown",
   "metadata": {
    "collapsed": true,
    "pycharm": {
     "is_executing": false,
     "name": "#%% md\n"
    }
   },
   "source": [
    "Step 1\n",
    "Load Wine dataset"
   ]
  },
  {
   "cell_type": "code",
   "execution_count": null,
   "metadata": {
    "pycharm": {
     "is_executing": false,
     "name": "#%% \n"
    }
   },
   "outputs": [],
   "source": [
    "dataset = load_wine()\n",
    "y_true = dataset.target\n",
    "freq ={}\n",
    "for y in y_true:\n",
    "    freq[y] = freq.get(y, 0) + 1\n",
    "\n",
    "# Plot distribution\n",
    "plt.figure()\n",
    "splot = sns.barplot(list(map(lambda k: f\"class {k}\", freq.keys())), list(freq.values()), palette=\"rocket\")\n",
    "for p in splot.patches:\n",
    "        splot.annotate(f\"{int(p.get_height())}\", (p.get_x() + p.get_width()/2., p.get_height()), ha = 'center', va = 'center', xytext = (0, 5), textcoords = 'offset points')\n",
    "plt.show()"
   ]
  },
  {
   "cell_type": "markdown",
   "metadata": {
    "pycharm": {
     "is_executing": false,
     "name": "#%% md\n"
    }
   },
   "source": [
    "Step 2\n",
    "Select the first two attributes for a 2D representation of the image"
   ]
  },
  {
   "cell_type": "code",
   "execution_count": null,
   "metadata": {
    "pycharm": {
     "is_executing": false,
     "name": "#%%\n"
    }
   },
   "outputs": [],
   "source": [
    "def plot_feature_distribution(x, y, x_name, y_name, show=False):\n",
    "    plt.figure()\n",
    "    for i,color in enumerate(['tab:blue', 'tab:orange', 'tab:green']):\n",
    "        filter = y_true == i\n",
    "        plt.scatter(x[filter], y[filter], c=color, label=f\"class {i+1}\")\n",
    "    plt.legend()\n",
    "    plt.grid(True)\n",
    "    plt.xlabel(x_name)\n",
    "    plt.ylabel(y_name)\n",
    "    if show:\n",
    "        plt.show()\n",
    "\n",
    "X = dataset.data[:,:2]\n",
    "# Plot feature distribution\n",
    "plot_feature_distribution(X[:,0], X[:,1], dataset.feature_names[0], dataset.feature_names[1])\n"
   ]
  },
  {
   "cell_type": "markdown",
   "metadata": {
    "pycharm": {
     "is_executing": false,
     "name": "#%% md\n"
    }
   },
   "source": [
    "Step 3\n",
    "Randomly split data into train, validation and test sets in proportion 5:2:3"
   ]
  },
  {
   "cell_type": "code",
   "execution_count": null,
   "metadata": {
    "pycharm": {
     "is_executing": false,
     "name": "#%%\n"
    }
   },
   "outputs": [],
   "source": [
    "X_trainVal, X_test, y_trainVal, y_test = train_test_split(X, y_true, test_size=3/10, random_state=42)\n",
    "X_train, X_val, y_train, y_val = train_test_split(X_trainVal, y_trainVal, test_size=2/7, random_state=42)\n",
    "\n",
    "scaler_val = StandardScaler()\n",
    "scaler_test = StandardScaler()\n",
    "\n",
    "#Scaler used for tuning stage\n",
    "X_train = scaler_val.fit_transform(X_train)\n",
    "X_val = scaler_val.transform(X_val)\n",
    "#Scaler used for the final test prediction\n",
    "X_trainVal = scaler_test.fit_transform(X_trainVal)\n",
    "X_test = scaler_test.transform(X_test)\n",
    "\n",
    "print(f\"Proportion train:validation:test -> {round(10*len(X_train)/len(X))}:{round(10*len(X_val)/len(X))}:{round(10*len(X_test)/len(X))}\")"
   ]
  },
  {
   "cell_type": "markdown",
   "metadata": {
    "pycharm": {
     "name": "#%% md\n"
    }
   },
   "source": [
    "Step 4\n",
    "For K = [1,3,5,7]:\n",
    "1. Apply K-Nearest Neighbors\n",
    "2. Plot the data and the decision boundaries\n",
    "3. Evaluate the method on the validation set"
   ]
  },
  {
   "cell_type": "code",
   "execution_count": null,
   "metadata": {
    "pycharm": {
     "is_executing": false,
     "name": "#%%\n"
    }
   },
   "outputs": [],
   "source": [
    "K = [1,3,5,7]\n",
    "knns = [KNeighborsClassifier(n_neighbors=k) for k in K]\n",
    "\n",
    "for knn in knns:\n",
    "    knn.fit(X_train, y_train)\n",
    "\n",
    "Ys_pred_knn = [knn.predict(X_val) for knn in knns]\n",
    "accuracies_knn = [accuracy_score(y_val, y_pred) for y_pred in Ys_pred_knn]\n",
    "\n",
    "# Create color maps\n",
    "cmap_light = ListedColormap(['orange', 'cyan', 'cornflowerblue'])\n",
    "cmap_bold = ListedColormap(['darkorange', 'c', 'darkblue'])\n",
    "\n",
    "#Build meshgrid and plot boundaries\n",
    "xx,yy = build_meshgrid(X_train[:, 0], X[:, 1])\n",
    "for knn,k,acc in zip(knns,K,accuracies_knn):\n",
    "    ax = plot_boundaries(knn, xx, yy, cmap_light)\n",
    "    ax.scatter(X_train[:,0], X_train[:,1], c=y_train, cmap=cmap_bold, s=20, edgecolors=\"k\")\n",
    "    ax.set_xlim(xx.min(), xx.max())\n",
    "    ax.set_ylim(yy.min(), yy.max())\n",
    "    ax.set_title(f\"K = {k} | Accuracy = {acc*100:.2f}%\")\n",
    "plt.show()"
   ]
  },
  {
   "cell_type": "markdown",
   "metadata": {},
   "source": [
    "Step 5\n",
    "Plot a graph showing how the accuracy on the validation set \n",
    "varies when changing K"
   ]
  },
  {
   "cell_type": "code",
   "execution_count": null,
   "metadata": {
    "pycharm": {
     "is_executing": false,
     "name": "#%%\n"
    }
   },
   "outputs": [],
   "source": [
    "# Curve Graph\n",
    "plt.figure()\n",
    "plt.title('k-NN: Curve (K, Accuracy %)')\n",
    "plt.scatter(K, np.array(accuracies_knn)*100, c=\"darkorange\", s=100)\n",
    "plt.plot(K, np.array(accuracies_knn)*100, zorder=-1)\n",
    "plt.xlabel('K')\n",
    "plt.ylabel('Accuracy %')\n",
    "plt.minorticks_off()\n",
    "plt.yticks(np.array(accuracies_knn)*100)\n",
    "plt.xticks(K)\n",
    "\n",
    "# Bar Plot\n",
    "plt.figure()\n",
    "plt.title('k-NN: Barplot (K, Accuracy %)')\n",
    "splot = sns.barplot(x=K, y=np.array(accuracies_knn)*100, palette=\"YlGnBu\")\n",
    "barplot_annotation(splot)\n",
    "plt.xlabel('K')\n",
    "plt.ylabel('Accuracy %')\n",
    "plt.ylim(np.max(accuracies_knn) + 10)\n",
    "\n",
    "plt.show()"
   ]
  },
  {
   "cell_type": "markdown",
   "metadata": {
    "pycharm": {
     "name": "#%% md\n"
    }
   },
   "source": [
    "Step 6\n",
    "How the boundaries change? Why?\n",
    "\n",
    "[...]"
   ]
  },
  {
   "cell_type": "markdown",
   "metadata": {
    "pycharm": {
     "name": "#%% md\n"
    }
   },
   "source": [
    "Step 7\n",
    "Use the best value of K and evaluate the model on the test set.\n",
    "How well does it works?\n",
    "[...]"
   ]
  },
  {
   "cell_type": "code",
   "execution_count": null,
   "metadata": {
    "pycharm": {
     "is_executing": false,
     "name": "#%% \n"
    }
   },
   "outputs": [],
   "source": [
    "best_arg = np.argmax(accuracies_knn)\n",
    "best_k = K[best_arg]\n",
    "best_knn = knns[best_arg]\n",
    "best_knn.fit(X_trainVal, y_trainVal)\n",
    "accuracy_test = best_knn.score(X_test, y_test)\n",
    "print(f\"Knn accuracy on test set: {accuracy_test*100:.2f}% using k = {best_k}\")\n",
    "\n",
    "plt.figure()\n",
    "plt.title('k-NN: Accuracy validation vs test')\n",
    "splot = sns.barplot(x=['best on validation', 'test'], y=np.array([max(accuracies_knn),accuracy_test])*100, palette=\"YlGnBu\")\n",
    "barplot_annotation(splot)\n",
    "plt.ylabel('Accuracy %')\n",
    "plt.ylim(np.max(accuracies_knn) + 10)\n",
    "\n",
    "plt.show()\n"
   ]
  },
  {
   "cell_type": "markdown",
   "metadata": {
    "pycharm": {
     "name": "#%% md\n"
    }
   },
   "source": [
    "Step 8\n",
    "For C = [0.001, 0.01, 0.1, 1, 10, 100,1000]:\n",
    "a. Train a linear SVM on the training set\n",
    "b. Plot the data and the decision boundaries\n",
    "c. Evaluate the method on the validation set"
   ]
  },
  {
   "cell_type": "code",
   "execution_count": null,
   "metadata": {
    "pycharm": {
     "is_executing": false,
     "name": "#%%\n"
    }
   },
   "outputs": [],
   "source": [
    "C = [0.001, 0.01, 0.1, 1, 10, 100,1000]\n",
    "svms = [SVC(C=c, kernel='linear', gamma=\"auto\") for c in C]\n",
    "\n",
    "for svm in svms:\n",
    "    svm.fit(X_train, y_train)\n",
    "\n",
    "Ys_pred_svm = [svm.predict(X_val) for svm in svms]\n",
    "accuracies_svm = [accuracy_score(y_val, y_pred) for y_pred in Ys_pred_svm]\n",
    "\n",
    "#Build meshgrid and plot boundaries\n",
    "xx,yy = build_meshgrid(X_train[:,0], X_train[:,1])\n",
    "for svm,c,acc in zip(svms,C,accuracies_svm):\n",
    "    ax = plot_boundaries(svm, xx, yy, cmap=cmap_light)\n",
    "    ax.scatter(X_train[:,0], X_train[:,1], c=y_train, cmap=cmap_bold, s=20, edgecolors=\"k\")\n",
    "    ax.set_xlim(xx.min(), xx.max())\n",
    "    ax.set_ylim(yy.min(), yy.max())\n",
    "    ax.set_title(f\"C = {c} | Accuracy = {acc*100:.2f}%\")\n",
    "\n",
    "plt.show()"
   ]
  },
  {
   "cell_type": "markdown",
   "metadata": {
    "pycharm": {
     "name": "#%% md\n"
    }
   },
   "source": [
    "Step 9\n",
    "Plot a graph showing how the accuracy on the validation set varies when\n",
    "changing C"
   ]
  },
  {
   "cell_type": "code",
   "execution_count": null,
   "metadata": {
    "pycharm": {
     "is_executing": false,
     "name": "#%%\n"
    }
   },
   "outputs": [],
   "source": [
    "# Curve Graph\n",
    "plt.figure()\n",
    "plt.title('SVM-linear: Curve (C, Accuracy %)')\n",
    "plt.scatter(C, np.array(accuracies_svm)*100, c=\"darkorange\", s=100)\n",
    "plt.plot(C, np.array(accuracies_svm)*100, zorder=-1)\n",
    "plt.xlabel('C')\n",
    "plt.ylabel('Accuracy %')\n",
    "plt.minorticks_off()\n",
    "plt.yticks(np.array(accuracies_svm)*100)\n",
    "plt.xticks(C)\n",
    "plt.xscale(\"log\")\n",
    "plt.xticks(C)\n",
    "\n",
    "# Bar Plot\n",
    "plt.figure()\n",
    "plt.title('SVM-linear: Barplot (C, Accuracy %)')\n",
    "splot = sns.barplot(x=C, y=np.array(accuracies_svm)*100, palette=\"YlGnBu\")\n",
    "barplot_annotation(splot)\n",
    "plt.xlabel('C')\n",
    "plt.ylabel('Accuracy %')\n",
    "plt.ylim(np.max(accuracies_svm)+10)\n",
    "plt.show()"
   ]
  },
  {
   "cell_type": "markdown",
   "metadata": {
    "pycharm": {
     "name": "#%% md\n"
    }
   },
   "source": [
    "Step 10\n",
    "How the boundaries change? Why?\n",
    "[...]"
   ]
  },
  {
   "cell_type": "markdown",
   "metadata": {
    "pycharm": {
     "name": "#%% md\n"
    }
   },
   "source": [
    "Step 11\n",
    "Use the best value of C and evaluate the model on the test set.\n",
    "How well does it works?\n",
    "[...]"
   ]
  },
  {
   "cell_type": "code",
   "execution_count": null,
   "metadata": {
    "pycharm": {
     "is_executing": false,
     "name": "#%%\n"
    }
   },
   "outputs": [],
   "source": [
    "best_arg_svm = np.argmax(accuracies_svm)\n",
    "best_c = C[best_arg_svm]\n",
    "best_svm = svms[best_arg_svm]\n",
    "best_svm.fit(X_trainVal, y_trainVal)\n",
    "accuracy_test_svm = best_svm.score(X_test, y_test)\n",
    "print(f\"SVM-linear accuracy on test set: {accuracy_test_svm*100:.2f}% using C = {best_c}\")\n",
    "\n",
    "plt.figure()\n",
    "plt.title('SVM-linear: Accuracy validation vs test')\n",
    "splot = sns.barplot(x=['best on validation', 'test'], y=np.array([max(accuracies_svm),accuracy_test_svm])*100, palette=\"YlGnBu\")\n",
    "barplot_annotation(splot)\n",
    "plt.ylabel('Accuracy %')\n",
    "plt.ylim(np.max(accuracies_knn) + 10)\n",
    "\n",
    "plt.show()"
   ]
  },
  {
   "cell_type": "markdown",
   "metadata": {
    "pycharm": {
     "name": "#%% md\n"
    }
   },
   "source": [
    "Step 12.1\n",
    "Repeat point 8. (train, plot, etc..), but this time use an RBF kernel"
   ]
  },
  {
   "cell_type": "code",
   "execution_count": null,
   "metadata": {
    "pycharm": {
     "is_executing": false,
     "name": "#%%\n"
    }
   },
   "outputs": [],
   "source": [
    "svms_rbf = [SVC(C=c, kernel='rbf', gamma='scale') for c in C]\n",
    "\n",
    "for svm in svms_rbf:\n",
    "    svm.fit(X_train, y_train)\n",
    "\n",
    "Ys_pred_rbf = [svm.predict(X_val) for svm in svms_rbf]\n",
    "accuracies_rbf = [accuracy_score(y_val, y_pred) for y_pred in Ys_pred_rbf]\n",
    "\n",
    "#Build meshgrid and plot boundaries\n",
    "xx,yy = build_meshgrid(X_train[:,0], X_train[:,1])\n",
    "for svm,c,acc in zip(svms_rbf,C,accuracies_rbf):\n",
    "    ax = plot_boundaries(svm, xx, yy, cmap=cmap_light)\n",
    "    ax.scatter(X_train[:,0], X_train[:,1], c=y_train, cmap=cmap_bold, s=20, edgecolors=\"k\")\n",
    "    ax.set_xlim(xx.min(), xx.max())\n",
    "    ax.set_ylim(yy.min(), yy.max())\n",
    "    ax.set_title(f\"C = {c} | Accuracy = {acc*100:.2f}%\")\n",
    "\n",
    "plt.show()"
   ]
  },
  {
   "cell_type": "markdown",
   "metadata": {
    "pycharm": {
     "name": "#%% md\n"
    }
   },
   "source": [
    "Step 12.2\n",
    "Plot a graph showing how the accuracy on the validation set varies when\n",
    "changing C"
   ]
  },
  {
   "cell_type": "code",
   "execution_count": null,
   "metadata": {
    "pycharm": {
     "is_executing": false,
     "name": "#%%\n"
    }
   },
   "outputs": [],
   "source": [
    "# Curve Graph\n",
    "plt.figure()\n",
    "plt.title('SVM-rbf: Curve (C, Accuracy %)')\n",
    "plt.scatter(C, np.array(accuracies_rbf)*100, c=\"darkorange\", s=100)\n",
    "plt.plot(C, np.array(accuracies_rbf)*100, zorder=-1)\n",
    "plt.xlabel('C')\n",
    "plt.ylabel('Accuracy %')\n",
    "plt.minorticks_off()\n",
    "plt.yticks(np.array(accuracies_rbf)*100)\n",
    "plt.xticks(C)\n",
    "plt.xscale(\"log\")\n",
    "plt.xticks(C)\n",
    "\n",
    "# Bar Plot\n",
    "plt.figure()\n",
    "plt.title('SVM-rbf: Barplot (C, Accuracy %)')\n",
    "splot = sns.barplot(x=C, y=np.array(accuracies_rbf)*100, palette=\"YlGnBu\")\n",
    "barplot_annotation(splot)\n",
    "plt.xlabel('C')\n",
    "plt.ylabel('Accuracy %')\n",
    "plt.ylim(np.max(accuracies_rbf) + 10)\n",
    "plt.show()"
   ]
  },
  {
   "cell_type": "markdown",
   "metadata": {},
   "source": [
    "Step 12.3\n",
    "How the boundaries change? Why?\n",
    "[...]"
   ]
  },
  {
   "cell_type": "markdown",
   "metadata": {},
   "source": [
    "Step 13 / 14\n",
    "Evaluate the best C on the test set\n",
    "Are there any differences compared to the linear kernel? How are the\n",
    "boundaries different?\n",
    "[...]"
   ]
  },
  {
   "cell_type": "code",
   "execution_count": null,
   "metadata": {
    "pycharm": {
     "is_executing": false,
     "name": "#%%\n"
    }
   },
   "outputs": [],
   "source": [
    "best_arg_rbf = np.argmax(accuracies_rbf)\n",
    "best_c_rbf = C[best_arg_rbf]\n",
    "best_rbf = svms_rbf[best_arg_rbf]\n",
    "best_rbf.fit(X_trainVal, y_trainVal)\n",
    "accuracy_test_rbf = best_rbf.score(X_test, y_test)\n",
    "print(f\"SVM-rbf accuracy on test set: {accuracy_test_rbf*100:.2f}% using C = {best_c_rbf}\")\n",
    "\n",
    "\n",
    "plt.figure()\n",
    "plt.title('SVM-rbf: Accuracy validation vs test')\n",
    "splot = sns.barplot(x=['best on validation', 'test'], y=np.array([max(accuracies_rbf),accuracy_test_rbf])*100, palette=\"YlGnBu\")\n",
    "barplot_annotation(splot)\n",
    "plt.ylabel('Accuracy %')\n",
    "plt.ylim(np.max(accuracies_knn) + 10)\n",
    "\n",
    "plt.show()"
   ]
  },
  {
   "cell_type": "markdown",
   "metadata": {
    "pycharm": {
     "name": "#%% md\n"
    }
   },
   "source": [
    "Step 15\n",
    "Perform a grid search of the best parameters for an RBF kernel: we will\n",
    "now tune both gamma and C at the same time. Select an appropriate\n",
    "range for both parameters. Train the model and score it on the validation\n",
    "set. Evaluate the best parameters on the test set. Plot the decision\n",
    "boundaries."
   ]
  },
  {
   "cell_type": "code",
   "execution_count": null,
   "metadata": {
    "pycharm": {
     "is_executing": false,
     "name": "#%%\n"
    }
   },
   "outputs": [],
   "source": [
    "c_range = list(2.**np.arange(-5, 15, 2))\n",
    "gamma_range = list(2.**np.arange(-15, 3, 2))\n",
    "\n",
    "params = {\n",
    "    \"C\":c_range,\n",
    "    \"gamma\":gamma_range\n",
    "}\n",
    "grid = ParameterGrid(params)\n",
    "svms_rbf = [SVC(kernel='rbf', **config) for config in grid]\n",
    "\n",
    "for svm in svms_rbf:\n",
    "    svm.fit(X_train, y_train)\n",
    "\n",
    "Ys_pred_rbf = [svm.predict(X_val) for svm in svms_rbf]\n",
    "accuracies_rbf = [accuracy_score(y_val, y_pred) for y_pred in Ys_pred_rbf]"
   ]
  },
  {
   "cell_type": "code",
   "execution_count": null,
   "metadata": {
    "pycharm": {
     "is_executing": false,
     "name": "#%%\n"
    }
   },
   "outputs": [],
   "source": [
    "#Evaluation on test set using the best combination (C,gamma)\n",
    "best_arg_rbf = np.argmax(accuracies_rbf)\n",
    "best_combination = grid[best_arg_rbf]\n",
    "best_rbf = svms_rbf[best_arg_rbf]\n",
    "best_rbf.fit(X_trainVal, y_trainVal)\n",
    "accuracy_test_rbf = best_rbf.score(X_test, y_test)\n",
    "print(f\"SVM-rbf accuracy on test set: {accuracy_test_rbf*100:.2f}% using {best_combination}\")"
   ]
  },
  {
   "cell_type": "code",
   "execution_count": null,
   "metadata": {
    "pycharm": {
     "is_executing": false,
     "name": "#%%\n"
    }
   },
   "outputs": [],
   "source": [
    "#Plot decision Boundaries \n",
    "xx,yy = build_meshgrid(X_trainVal[:,0], X_trainVal[:,1])\n",
    "ax = plot_boundaries(best_rbf, xx, yy, cmap=cmap_light)\n",
    "ax.scatter(X_trainVal[:,0], X_trainVal[:,1], c=y_trainVal, cmap=cmap_bold, s=20, edgecolors=\"k\")\n",
    "ax.set_xlim(xx.min(), xx.max())\n",
    "ax.set_ylim(yy.min(), yy.max())\n",
    "ax.set_title(f\"Best SVM-rbf | Accuracy = {accuracy_test_rbf*100:.2f}%\")\n",
    "\n",
    "plt.figure()\n",
    "plt.title('SVM-rbf Param Grid: Accuracy validation vs test')\n",
    "splot = sns.barplot(x=['best on validation', 'test'], y=np.array([max(accuracies_rbf),accuracy_test_rbf])*100, palette=\"YlGnBu\")\n",
    "barplot_annotation(splot)\n",
    "plt.ylabel('Accuracy %')\n",
    "plt.ylim(np.max(accuracies_knn) + 10)\n",
    "\n",
    "plt.show()"
   ]
  },
  {
   "cell_type": "markdown",
   "metadata": {
    "pycharm": {
     "name": "#%% md\n"
    }
   },
   "source": [
    "Step 16\n",
    "Merge the training and validation split. You should now have 70% training and 30% test data.\n",
    "\n",
    "Step 17\n",
    "Repeat the grid search for gamma and C but this time perform 5-fold\n",
    "validation.\n",
    "\n",
    "Step 18\n",
    "Evaluate the parameters on the test set. Is the final score different? Why?"
   ]
  },
  {
   "cell_type": "code",
   "execution_count": null,
   "metadata": {
    "pycharm": {
     "is_executing": false,
     "name": "#%%\n"
    }
   },
   "outputs": [],
   "source": [
    "grid = GridSearchCV(SVC(kernel=\"rbf\"),param_grid=params, scoring=\"accuracy\", cv=5, n_jobs=-1)\n",
    "grid.fit(X_trainVal, y_trainVal)\n",
    "y_pred_final = grid.predict(X_test)\n",
    "gs_accuracy = accuracy_score(y_test, y_pred_final)\n",
    "print(f\"Best SVM-rbf CV| Accuracy = {gs_accuracy*100:.2f}%\")\n",
    "\n",
    "plt.figure()\n",
    "plt.title('SVM-rbf CV: Accuracy validation vs test')\n",
    "splot = sns.barplot(x=['best on validation', 'test'], y=np.array([grid.best_score_,gs_accuracy])*100, palette=\"YlGnBu\")\n",
    "barplot_annotation(splot)\n",
    "plt.ylabel('Accuracy %')\n",
    "plt.ylim(np.max(accuracies_knn) + 10)\n",
    "\n",
    "plt.show()"
   ]
  },
  {
   "cell_type": "markdown",
   "metadata": {
    "pycharm": {
     "name": "#%% md\n"
    }
   },
   "source": [
    "Step 19 / 20\n",
    "Discuss the difference between KNN and SVM\n",
    "Try also with different pairs of attributes"
   ]
  },
  {
   "cell_type": "code",
   "execution_count": null,
   "outputs": [],
   "source": [
    "# sounds good (0,5) (0,6) (0,10) (0,11) \n",
    "# sounds bad (1,2), (1,3) (3,4) \n",
    "#ind_f1 = 3\n",
    "#ind_f2 = 4\n",
    "#plot_feature_distribution(dataset.data[:,ind_f1], dataset.data[:,ind_f2], dataset.feature_names[ind_f1], dataset.feature_names[ind_f2])\n",
    "\n",
    "good = [(0,5), (0,6), (0,10), (0,11)]\n",
    "bad = [(1,2), (1,3), (3,4)]\n",
    "\n",
    "#simo\n",
    "#good = [(4,5), (2,3), (3,4), (1,2), (6,9), (5, 12)]\n",
    "#bad = [(6,7), (1,9), (4,8), (3,10), (7, 11), (8, 9)] \n",
    "\n",
    "accuracies = start_extra_task(dataset.data, dataset.target, dataset.feature_names, feature_combs=good+bad)\n",
    "accuracies"
   ],
   "metadata": {
    "collapsed": false,
    "pycharm": {
     "name": "#%%\n",
     "is_executing": false
    }
   }
  },
  {
   "cell_type": "code",
   "execution_count": null,
   "outputs": [],
   "source": [
    "X = [[] for i in range(len(accuracies))]\n",
    "\n",
    "for i,combs in enumerate(accuracies.values()):\n",
    "    X[i].append(combs['knn'][1])\n",
    "    X[i].append(combs['svm-linear'][1])\n",
    "    X[i].append(combs['svm-rbf'][1])\n",
    "    print(combs)\n",
    "\n",
    "X = np.array(X)"
   ],
   "metadata": {
    "collapsed": false,
    "pycharm": {
     "name": "#%%\n",
     "is_executing": false
    }
   }
  },
  {
   "cell_type": "code",
   "execution_count": null,
   "outputs": [],
   "source": [
    "x_labels = ['knn', 'svm-linear', 'svm-rbf']\n",
    "y_labels = [f\"{combs['feature_names'][0]} - {combs['feature_names'][1]}\" for  combs in accuracies.values()]\n",
    "plt.figure()\n",
    "ax = sns.heatmap(X, annot=True, cbar=False)\n",
    "ax.set_xticklabels(x_labels)\n",
    "ax.set_yticklabels(y_labels)\n",
    "plt.setp(ax.get_yticklabels(), rotation=0, rotation_mode=\"anchor\")\n",
    "plt.show()"
   ],
   "metadata": {
    "collapsed": false,
    "pycharm": {
     "name": "#%%\n",
     "is_executing": false
    }
   }
  }
 ],
 "metadata": {
  "kernelspec": {
   "display_name": "Python 3",
   "language": "python",
   "name": "python3"
  },
  "language_info": {
   "codemirror_mode": {
    "name": "ipython",
    "version": 3
   },
   "file_extension": ".py",
   "mimetype": "text/x-python",
   "name": "python",
   "nbconvert_exporter": "python",
   "pygments_lexer": "ipython3",
   "version": "3.7.4"
  },
  "pycharm": {
   "stem_cell": {
    "cell_type": "raw",
    "source": [],
    "metadata": {
     "collapsed": false
    }
   }
  }
 },
 "nbformat": 4,
 "nbformat_minor": 1
}